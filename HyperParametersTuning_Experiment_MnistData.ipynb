{
  "nbformat": 4,
  "nbformat_minor": 0,
  "metadata": {
    "colab": {
      "name": "HyperParametersTuning_Experiment_MnistData.ipynb",
      "provenance": [],
      "collapsed_sections": []
    },
    "kernelspec": {
      "name": "python3",
      "display_name": "Python 3"
    }
  },
  "cells": [
    {
      "cell_type": "markdown",
      "metadata": {
        "id": "LZGBjwXIREnm",
        "colab_type": "text"
      },
      "source": [
        "### **Name: Satyam Singh**\n",
        "### **Topic: End-Course-Test**"
      ]
    },
    {
      "cell_type": "markdown",
      "metadata": {
        "id": "0WcoalFgWs4Y",
        "colab_type": "text"
      },
      "source": [
        "### ***Description***\n",
        "\n",
        "---\n",
        "\n",
        "\n",
        "\n",
        "The dataset is similar to MNIST but includes images of certain\n",
        "clothing and accessory. The objective is to classify images into\n",
        "specific classes using CNN."
      ]
    },
    {
      "cell_type": "code",
      "metadata": {
        "id": "nykoly4jW3iX",
        "colab_type": "code",
        "outputId": "2ef8caea-35c3-44f8-8999-7df65e6ab5bc",
        "colab": {
          "base_uri": "https://localhost:8080/",
          "height": 73
        }
      },
      "source": [
        "import tensorflow as tf\n",
        "from tensorflow.keras.datasets import  fashion_mnist\n",
        "\n",
        "from tensorflow.keras.models import Sequential\n",
        "from tensorflow.keras.layers import Conv2D, MaxPool2D, Flatten, Dense\n",
        "\n",
        "from tensorflow.keras.models import load_model\n",
        "from sklearn.metrics import accuracy_score\n",
        "from sklearn.metrics import confusion_matrix\n",
        "import numpy as np\n",
        "\n",
        "import matplotlib.pyplot as plt\n",
        "import seaborn as sns\n",
        "sns.set()\n",
        "%matplotlib inline"
      ],
      "execution_count": 0,
      "outputs": [
        {
          "output_type": "stream",
          "text": [
            "/usr/local/lib/python3.6/dist-packages/statsmodels/tools/_testing.py:19: FutureWarning: pandas.util.testing is deprecated. Use the functions in the public API at pandas.testing instead.\n",
            "  import pandas.util.testing as tm\n"
          ],
          "name": "stderr"
        }
      ]
    },
    {
      "cell_type": "markdown",
      "metadata": {
        "id": "9jkWK5JuW7jr",
        "colab_type": "text"
      },
      "source": [
        "### ***Dataset:***\n",
        "\n",
        "---\n",
        "\n",
        "\n",
        "    \n",
        "    Total Images: - 70,000\n",
        "    Train Images: - 60,000\n",
        "    Test Images:- 10,000\n",
        "    Image Size:- 28 X 28"
      ]
    },
    {
      "cell_type": "markdown",
      "metadata": {
        "id": "fb_56_siXFo2",
        "colab_type": "text"
      },
      "source": [
        "Different Classes:\n",
        " \n",
        "    Classes: 'T-shirt/top', 'Trouser',  'Pullover', 'Dress', 'Coat',\n",
        "    \n",
        "    'Sandal', 'Shirt', 'Sneaker', 'Bag', 'Ankle Boot'\n"
      ]
    },
    {
      "cell_type": "markdown",
      "metadata": {
        "id": "exJm1zQNRXes",
        "colab_type": "text"
      },
      "source": [
        "### ***Creating Dictionaryof Classes***"
      ]
    },
    {
      "cell_type": "code",
      "metadata": {
        "id": "_rbWIRHXbY_K",
        "colab_type": "code",
        "colab": {}
      },
      "source": [
        "cloth_dict = {0:'T-shirt/top', 1:'Trouser', 2:'Pullover', 3:'Dress', 4:'Coat',\n",
        " \n",
        "5:'Sandal', 6:'Shirt', 7:'Sneaker', 8:'Bag', 9:'Ankle Boot'}"
      ],
      "execution_count": 0,
      "outputs": []
    },
    {
      "cell_type": "markdown",
      "metadata": {
        "id": "w3Z5kHKaXVoo",
        "colab_type": "text"
      },
      "source": [
        "### ***Question 1***\n",
        "\n",
        "---\n",
        "\n",
        "\n",
        "A. \n",
        "\n",
        "Load Fashion data from Keras Library and Split the same into\n",
        "Train and Test"
      ]
    },
    {
      "cell_type": "code",
      "metadata": {
        "id": "1bNWuSquXOAo",
        "colab_type": "code",
        "colab": {}
      },
      "source": [
        "(x_train, y_train), (x_test, y_test)=fashion_mnist.load_data() "
      ],
      "execution_count": 0,
      "outputs": []
    },
    {
      "cell_type": "markdown",
      "metadata": {
        "id": "QCH1X-SfXkvt",
        "colab_type": "text"
      },
      "source": [
        "B. \n",
        "\n",
        "Scale the values of train and test between 0 & 1 by dividing\n",
        "train & test by 255"
      ]
    },
    {
      "cell_type": "code",
      "metadata": {
        "id": "4ymwVXD_YTRz",
        "colab_type": "code",
        "colab": {}
      },
      "source": [
        "x_train=x_train/255.0\n",
        "x_test=x_test/255.0"
      ],
      "execution_count": 0,
      "outputs": []
    },
    {
      "cell_type": "code",
      "metadata": {
        "id": "9zCDQDKQYvbI",
        "colab_type": "code",
        "outputId": "083987b0-a2a4-4fcd-aca9-3dfebc3fd480",
        "colab": {
          "base_uri": "https://localhost:8080/",
          "height": 264
        }
      },
      "source": [
        "fig, axs=plt.subplots(5,5)\n",
        "plt.subplots_adjust(wspace=0.5, hspace= 0.5)\n",
        "k=0\n",
        "for i in range(5):\n",
        "    for j in range(5):\n",
        "        axs[i,j].imshow(x_train[k]) \n",
        "        axs[i,j].axis(False)\n",
        "        axs[i,j].set_title(cloth_dict[y_train[k]], color = 'blue')       \n",
        "        k+=1 "
      ],
      "execution_count": 0,
      "outputs": [
        {
          "output_type": "display_data",
          "data": {
            "image/png": "[encoded data removed]",
            "text/plain": [
              "<Figure size 432x288 with 25 Axes>"
            ]
          },
          "metadata": {
            "tags": [],
            "needs_background": "light"
          }
        }
      ]
    },
    {
      "cell_type": "markdown",
      "metadata": {
        "id": "GEmBnJT0hvoW",
        "colab_type": "text"
      },
      "source": [
        "QUESTION 3:\n",
        "\n",
        "Load the data (again, important)\n",
        "\n",
        "1. \n",
        "\n",
        "Reshape the data to (28,28,1). The actual data is in (28,28)\n",
        "format and we need to add a single channel, 1 to it. Do the\n",
        "reshape for both train and test."
      ]
    },
    {
      "cell_type": "code",
      "metadata": {
        "id": "MRQ418hWhJoo",
        "colab_type": "code",
        "colab": {}
      },
      "source": [
        "(x_train, y_train), (x_test, y_test)=fashion_mnist.load_data()"
      ],
      "execution_count": 0,
      "outputs": []
    },
    {
      "cell_type": "code",
      "metadata": {
        "id": "RSmnRtmGh3nI",
        "colab_type": "code",
        "outputId": "ec15ec64-4d0d-4bcf-ec0f-d73f2784e77d",
        "colab": {
          "base_uri": "https://localhost:8080/",
          "height": 53
        }
      },
      "source": [
        "print('Train image before reshaping:', x_train.shape)\n",
        "x_train = x_train.reshape(-1, 28,28,1)\n",
        "x_test = x_test.reshape(-1, 28,28,1)\n",
        "print('Train image after reshaping:', x_train.shape)"
      ],
      "execution_count": 0,
      "outputs": [
        {
          "output_type": "stream",
          "text": [
            "Train image before reshaping: (60000, 28, 28)\n",
            "Train image after reshaping: (60000, 28, 28, 1)\n"
          ],
          "name": "stdout"
        }
      ]
    },
    {
      "cell_type": "code",
      "metadata": {
        "id": "AzPnUoM5iD5g",
        "colab_type": "code",
        "colab": {}
      },
      "source": [
        "x_train=x_train/255.0\n",
        "x_test=x_test/255.0"
      ],
      "execution_count": 0,
      "outputs": []
    },
    {
      "cell_type": "markdown",
      "metadata": {
        "id": "0YBTgAriigNh",
        "colab_type": "text"
      },
      "source": [
        "Question 4:\n",
        "\n",
        "A. \n",
        "\n",
        "Build basic CNN on the fashion MNIST Data.\n"
      ]
    },
    {
      "cell_type": "code",
      "metadata": {
        "id": "NbNhGHkXi1tE",
        "colab_type": "code",
        "outputId": "ea7dff9e-ac1c-43bc-e9c6-f7f18455f798",
        "colab": {
          "base_uri": "https://localhost:8080/",
          "height": 325
        }
      },
      "source": [
        "model = Sequential()\n",
        "model.add(Conv2D(32,(3,3),(1,1), input_shape=(28,28,1)))\n",
        "model.add(MaxPool2D((2,2)))\n",
        "model.add(Flatten())\n",
        "model.add(Dense(128))\n",
        "model.add(Dense(10, activation= 'softmax'))\n",
        "model.summary() "
      ],
      "execution_count": 0,
      "outputs": [
        {
          "output_type": "stream",
          "text": [
            "Model: \"sequential\"\n",
            "_________________________________________________________________\n",
            "Layer (type)                 Output Shape              Param #   \n",
            "=================================================================\n",
            "conv2d (Conv2D)              (None, 26, 26, 32)        320       \n",
            "_________________________________________________________________\n",
            "max_pooling2d (MaxPooling2D) (None, 13, 13, 32)        0         \n",
            "_________________________________________________________________\n",
            "flatten (Flatten)            (None, 5408)              0         \n",
            "_________________________________________________________________\n",
            "dense (Dense)                (None, 128)               692352    \n",
            "_________________________________________________________________\n",
            "dense_1 (Dense)              (None, 10)                1290      \n",
            "=================================================================\n",
            "Total params: 693,962\n",
            "Trainable params: 693,962\n",
            "Non-trainable params: 0\n",
            "_________________________________________________________________\n"
          ],
          "name": "stdout"
        }
      ]
    },
    {
      "cell_type": "markdown",
      "metadata": {
        "id": "eD8eBG7kk7Sn",
        "colab_type": "text"
      },
      "source": [
        "B. \n",
        "\n",
        "Compile the model with either ADAM or GradientDescent\n",
        "with Loss as sparse_categorical_crossentropy and metrics\n",
        "'accuracy'.\n",
        "\n",
        "C. \n",
        "\n",
        "Fit a model with 30 Epochs and 1000 Batch Size\n"
      ]
    },
    {
      "cell_type": "code",
      "metadata": {
        "id": "OOF2jIWKFmGJ",
        "colab_type": "code",
        "outputId": "f2eb7388-7ce3-4721-955b-c406484a166c",
        "colab": {
          "base_uri": "https://localhost:8080/",
          "height": 35
        }
      },
      "source": [
        "t_len= int(len(x_train)*(0.90))\n",
        "t_len"
      ],
      "execution_count": 0,
      "outputs": [
        {
          "output_type": "execute_result",
          "data": {
            "text/plain": [
              "54000"
            ]
          },
          "metadata": {
            "tags": []
          },
          "execution_count": 28
        }
      ]
    },
    {
      "cell_type": "code",
      "metadata": {
        "id": "icCZpJu5FIUs",
        "colab_type": "code",
        "colab": {}
      },
      "source": [
        "x= x_train[:t_len];y= y_train[:t_len] \n",
        "val_x= x_train[t_len:];val_y= y_train[t_len:] "
      ],
      "execution_count": 0,
      "outputs": []
    },
    {
      "cell_type": "code",
      "metadata": {
        "id": "aw05zzGuk6xf",
        "colab_type": "code",
        "outputId": "076bd441-891a-40cf-cc61-8bbd425e6ac8",
        "colab": {
          "base_uri": "https://localhost:8080/",
          "height": 1000
        }
      },
      "source": [
        "model.compile('adam', 'sparse_categorical_crossentropy', 'accuracy')\n",
        "model.fit(x,y, epochs= 30, batch_size= 1000, validation_data=(val_x, val_y))  "
      ],
      "execution_count": 0,
      "outputs": [
        {
          "output_type": "stream",
          "text": [
            "Epoch 1/30\n",
            "54/54 [==============================] - 17s 324ms/step - loss: 0.1366 - accuracy: 0.9505 - val_loss: 0.1205 - val_accuracy: 0.9572\n",
            "Epoch 2/30\n",
            "54/54 [==============================] - 17s 320ms/step - loss: 0.1172 - accuracy: 0.9593 - val_loss: 0.1281 - val_accuracy: 0.9553\n",
            "Epoch 3/30\n",
            "54/54 [==============================] - 17s 319ms/step - loss: 0.1173 - accuracy: 0.9589 - val_loss: 0.1329 - val_accuracy: 0.9525\n",
            "Epoch 4/30\n",
            "54/54 [==============================] - 17s 322ms/step - loss: 0.1170 - accuracy: 0.9587 - val_loss: 0.1408 - val_accuracy: 0.9495\n",
            "Epoch 5/30\n",
            "54/54 [==============================] - 17s 322ms/step - loss: 0.1131 - accuracy: 0.9610 - val_loss: 0.1431 - val_accuracy: 0.9472\n",
            "Epoch 6/30\n",
            "54/54 [==============================] - 17s 322ms/step - loss: 0.1148 - accuracy: 0.9597 - val_loss: 0.1494 - val_accuracy: 0.9445\n",
            "Epoch 7/30\n",
            "54/54 [==============================] - 17s 322ms/step - loss: 0.1139 - accuracy: 0.9599 - val_loss: 0.1581 - val_accuracy: 0.9402\n",
            "Epoch 8/30\n",
            "54/54 [==============================] - 17s 322ms/step - loss: 0.1098 - accuracy: 0.9609 - val_loss: 0.1581 - val_accuracy: 0.9402\n",
            "Epoch 9/30\n",
            "54/54 [==============================] - 17s 321ms/step - loss: 0.1088 - accuracy: 0.9616 - val_loss: 0.1743 - val_accuracy: 0.9350\n",
            "Epoch 10/30\n",
            "54/54 [==============================] - 17s 321ms/step - loss: 0.1050 - accuracy: 0.9637 - val_loss: 0.1639 - val_accuracy: 0.9392\n",
            "Epoch 11/30\n",
            "54/54 [==============================] - 17s 318ms/step - loss: 0.1075 - accuracy: 0.9620 - val_loss: 0.1685 - val_accuracy: 0.9388\n",
            "Epoch 12/30\n",
            "54/54 [==============================] - 17s 316ms/step - loss: 0.1055 - accuracy: 0.9630 - val_loss: 0.1779 - val_accuracy: 0.9323\n",
            "Epoch 13/30\n",
            "54/54 [==============================] - 17s 318ms/step - loss: 0.1003 - accuracy: 0.9653 - val_loss: 0.1712 - val_accuracy: 0.9375\n",
            "Epoch 14/30\n",
            "54/54 [==============================] - 17s 319ms/step - loss: 0.0999 - accuracy: 0.9652 - val_loss: 0.1925 - val_accuracy: 0.9272\n",
            "Epoch 15/30\n",
            "54/54 [==============================] - 17s 321ms/step - loss: 0.0982 - accuracy: 0.9656 - val_loss: 0.1785 - val_accuracy: 0.9348\n",
            "Epoch 16/30\n",
            "54/54 [==============================] - 17s 322ms/step - loss: 0.0954 - accuracy: 0.9667 - val_loss: 0.1831 - val_accuracy: 0.9367\n",
            "Epoch 17/30\n",
            "54/54 [==============================] - 17s 321ms/step - loss: 0.0949 - accuracy: 0.9667 - val_loss: 0.1918 - val_accuracy: 0.9323\n",
            "Epoch 18/30\n",
            "54/54 [==============================] - 17s 321ms/step - loss: 0.0936 - accuracy: 0.9676 - val_loss: 0.1867 - val_accuracy: 0.9363\n",
            "Epoch 19/30\n",
            "54/54 [==============================] - 17s 322ms/step - loss: 0.0983 - accuracy: 0.9651 - val_loss: 0.2032 - val_accuracy: 0.9315\n",
            "Epoch 20/30\n",
            "54/54 [==============================] - 17s 319ms/step - loss: 0.0942 - accuracy: 0.9678 - val_loss: 0.1963 - val_accuracy: 0.9317\n",
            "Epoch 21/30\n",
            "54/54 [==============================] - 17s 318ms/step - loss: 0.0897 - accuracy: 0.9688 - val_loss: 0.1988 - val_accuracy: 0.9313\n",
            "Epoch 22/30\n",
            "54/54 [==============================] - 17s 319ms/step - loss: 0.0873 - accuracy: 0.9698 - val_loss: 0.2034 - val_accuracy: 0.9300\n",
            "Epoch 23/30\n",
            "54/54 [==============================] - 17s 317ms/step - loss: 0.0907 - accuracy: 0.9684 - val_loss: 0.2105 - val_accuracy: 0.9308\n",
            "Epoch 24/30\n",
            "54/54 [==============================] - 17s 320ms/step - loss: 0.0948 - accuracy: 0.9662 - val_loss: 0.2173 - val_accuracy: 0.9290\n",
            "Epoch 25/30\n",
            "54/54 [==============================] - 17s 319ms/step - loss: 0.0884 - accuracy: 0.9692 - val_loss: 0.2181 - val_accuracy: 0.9290\n",
            "Epoch 26/30\n",
            "54/54 [==============================] - 17s 321ms/step - loss: 0.0868 - accuracy: 0.9696 - val_loss: 0.2124 - val_accuracy: 0.9262\n",
            "Epoch 27/30\n",
            "54/54 [==============================] - 17s 320ms/step - loss: 0.0847 - accuracy: 0.9706 - val_loss: 0.2191 - val_accuracy: 0.9260\n",
            "Epoch 28/30\n",
            "54/54 [==============================] - 17s 320ms/step - loss: 0.0871 - accuracy: 0.9692 - val_loss: 0.2356 - val_accuracy: 0.9220\n",
            "Epoch 29/30\n",
            "54/54 [==============================] - 17s 320ms/step - loss: 0.0858 - accuracy: 0.9695 - val_loss: 0.2411 - val_accuracy: 0.9218\n",
            "Epoch 30/30\n",
            "54/54 [==============================] - 17s 318ms/step - loss: 0.0813 - accuracy: 0.9720 - val_loss: 0.2451 - val_accuracy: 0.9205\n"
          ],
          "name": "stdout"
        },
        {
          "output_type": "execute_result",
          "data": {
            "text/plain": [
              "<tensorflow.python.keras.callbacks.History at 0x7fe4e5ba9ef0>"
            ]
          },
          "metadata": {
            "tags": []
          },
          "execution_count": 20
        }
      ]
    },
    {
      "cell_type": "markdown",
      "metadata": {
        "id": "BNRRur1ll9zK",
        "colab_type": "text"
      },
      "source": [
        "\n",
        "Question 5:\n",
        "\n",
        "Now, let's have the same model, but this time using simple\n",
        "\"categorical_crossentropy\" as loss."
      ]
    },
    {
      "cell_type": "code",
      "metadata": {
        "id": "okLy49JimCr1",
        "colab_type": "code",
        "colab": {}
      },
      "source": [
        "Y_train = tf.keras.utils.to_categorical(y_train, num_classes = 10)\n",
        "Y= Y_train[:t_len];val_Y= Y_train[t_len:] \n",
        "Y_test = tf.keras.utils.to_categorical(y_test, num_classes = 10) "
      ],
      "execution_count": 0,
      "outputs": []
    },
    {
      "cell_type": "code",
      "metadata": {
        "id": "A2dGjkj-mVH-",
        "colab_type": "code",
        "outputId": "f49e994e-24c5-4693-c4b6-d4a80b41d0e8",
        "colab": {
          "base_uri": "https://localhost:8080/",
          "height": 1000
        }
      },
      "source": [
        "model.compile('adam', 'categorical_crossentropy', 'accuracy')\n",
        "model.fit(x,Y, epochs= 30, batch_size= 1000, validation_data=(val_x, val_Y))   "
      ],
      "execution_count": 0,
      "outputs": [
        {
          "output_type": "stream",
          "text": [
            "Epoch 1/30\n",
            "54/54 [==============================] - 17s 321ms/step - loss: 0.0945 - accuracy: 0.9658 - val_loss: 0.2248 - val_accuracy: 0.9285\n",
            "Epoch 2/30\n",
            "54/54 [==============================] - 17s 320ms/step - loss: 0.0762 - accuracy: 0.9744 - val_loss: 0.2396 - val_accuracy: 0.9240\n",
            "Epoch 3/30\n",
            "54/54 [==============================] - 17s 321ms/step - loss: 0.0803 - accuracy: 0.9720 - val_loss: 0.2443 - val_accuracy: 0.9217\n",
            "Epoch 4/30\n",
            "54/54 [==============================] - 17s 319ms/step - loss: 0.0750 - accuracy: 0.9750 - val_loss: 0.2433 - val_accuracy: 0.9222\n",
            "Epoch 5/30\n",
            "54/54 [==============================] - 17s 318ms/step - loss: 0.0742 - accuracy: 0.9741 - val_loss: 0.2459 - val_accuracy: 0.9252\n",
            "Epoch 6/30\n",
            "54/54 [==============================] - 17s 319ms/step - loss: 0.0730 - accuracy: 0.9744 - val_loss: 0.2525 - val_accuracy: 0.9225\n",
            "Epoch 7/30\n",
            "54/54 [==============================] - 17s 319ms/step - loss: 0.0746 - accuracy: 0.9741 - val_loss: 0.2572 - val_accuracy: 0.9227\n",
            "Epoch 8/30\n",
            "54/54 [==============================] - 17s 320ms/step - loss: 0.0724 - accuracy: 0.9754 - val_loss: 0.2535 - val_accuracy: 0.9215\n",
            "Epoch 9/30\n",
            "54/54 [==============================] - 17s 322ms/step - loss: 0.0735 - accuracy: 0.9736 - val_loss: 0.2593 - val_accuracy: 0.9207\n",
            "Epoch 10/30\n",
            "54/54 [==============================] - 17s 321ms/step - loss: 0.0717 - accuracy: 0.9752 - val_loss: 0.2656 - val_accuracy: 0.9190\n",
            "Epoch 11/30\n",
            "54/54 [==============================] - 17s 321ms/step - loss: 0.0727 - accuracy: 0.9743 - val_loss: 0.2561 - val_accuracy: 0.9215\n",
            "Epoch 12/30\n",
            "54/54 [==============================] - 17s 320ms/step - loss: 0.0694 - accuracy: 0.9757 - val_loss: 0.2736 - val_accuracy: 0.9172\n",
            "Epoch 13/30\n",
            "54/54 [==============================] - 17s 320ms/step - loss: 0.0680 - accuracy: 0.9767 - val_loss: 0.2708 - val_accuracy: 0.9227\n",
            "Epoch 14/30\n",
            "54/54 [==============================] - 17s 320ms/step - loss: 0.0713 - accuracy: 0.9746 - val_loss: 0.2859 - val_accuracy: 0.9193\n",
            "Epoch 15/30\n",
            "54/54 [==============================] - 17s 323ms/step - loss: 0.0692 - accuracy: 0.9758 - val_loss: 0.2832 - val_accuracy: 0.9193\n",
            "Epoch 16/30\n",
            "54/54 [==============================] - 17s 319ms/step - loss: 0.0674 - accuracy: 0.9762 - val_loss: 0.2866 - val_accuracy: 0.9190\n",
            "Epoch 17/30\n",
            "54/54 [==============================] - 17s 320ms/step - loss: 0.0673 - accuracy: 0.9767 - val_loss: 0.2927 - val_accuracy: 0.9177\n",
            "Epoch 18/30\n",
            "54/54 [==============================] - 17s 321ms/step - loss: 0.0680 - accuracy: 0.9761 - val_loss: 0.2887 - val_accuracy: 0.9197\n",
            "Epoch 19/30\n",
            "54/54 [==============================] - 17s 321ms/step - loss: 0.0632 - accuracy: 0.9782 - val_loss: 0.3019 - val_accuracy: 0.9152\n",
            "Epoch 20/30\n",
            "54/54 [==============================] - 17s 319ms/step - loss: 0.0687 - accuracy: 0.9748 - val_loss: 0.2965 - val_accuracy: 0.9175\n",
            "Epoch 21/30\n",
            "54/54 [==============================] - 17s 320ms/step - loss: 0.0612 - accuracy: 0.9790 - val_loss: 0.3034 - val_accuracy: 0.9135\n",
            "Epoch 22/30\n",
            "54/54 [==============================] - 17s 319ms/step - loss: 0.0620 - accuracy: 0.9785 - val_loss: 0.3063 - val_accuracy: 0.9137\n",
            "Epoch 23/30\n",
            "54/54 [==============================] - 17s 320ms/step - loss: 0.0684 - accuracy: 0.9749 - val_loss: 0.3118 - val_accuracy: 0.9163\n",
            "Epoch 24/30\n",
            "54/54 [==============================] - 17s 319ms/step - loss: 0.0612 - accuracy: 0.9788 - val_loss: 0.3067 - val_accuracy: 0.9157\n",
            "Epoch 25/30\n",
            "54/54 [==============================] - 17s 317ms/step - loss: 0.0580 - accuracy: 0.9802 - val_loss: 0.3114 - val_accuracy: 0.9158\n",
            "Epoch 26/30\n",
            "54/54 [==============================] - 17s 313ms/step - loss: 0.0604 - accuracy: 0.9783 - val_loss: 0.3101 - val_accuracy: 0.9192\n",
            "Epoch 27/30\n",
            "54/54 [==============================] - 17s 313ms/step - loss: 0.0573 - accuracy: 0.9806 - val_loss: 0.3209 - val_accuracy: 0.9170\n",
            "Epoch 28/30\n",
            "54/54 [==============================] - 17s 315ms/step - loss: 0.0571 - accuracy: 0.9808 - val_loss: 0.3305 - val_accuracy: 0.9167\n",
            "Epoch 29/30\n",
            "54/54 [==============================] - 17s 315ms/step - loss: 0.0551 - accuracy: 0.9814 - val_loss: 0.3245 - val_accuracy: 0.9153\n",
            "Epoch 30/30\n",
            "54/54 [==============================] - 17s 316ms/step - loss: 0.0575 - accuracy: 0.9797 - val_loss: 0.3593 - val_accuracy: 0.9093\n"
          ],
          "name": "stdout"
        },
        {
          "output_type": "execute_result",
          "data": {
            "text/plain": [
              "<tensorflow.python.keras.callbacks.History at 0x7fe4e5a758d0>"
            ]
          },
          "metadata": {
            "tags": []
          },
          "execution_count": 22
        }
      ]
    },
    {
      "cell_type": "markdown",
      "metadata": {
        "id": "qVmrWPnHmiFN",
        "colab_type": "text"
      },
      "source": [
        "Question 6:\n",
        "\n",
        "A. \n",
        "\n",
        "Save the model as .H5 file, as “my_model”.h5."
      ]
    },
    {
      "cell_type": "code",
      "metadata": {
        "id": "ESvXhZD1mrzG",
        "colab_type": "code",
        "colab": {}
      },
      "source": [
        "model.save('my_model.h5') "
      ],
      "execution_count": 0,
      "outputs": []
    },
    {
      "cell_type": "markdown",
      "metadata": {
        "id": "o4WMHTVCm2oB",
        "colab_type": "text"
      },
      "source": [
        "B. \n",
        "\n",
        "Now load the \"my_model.h5\" and evaluate the test_image\n",
        "and test_label with new_model to check accuracy. \n",
        "\n",
        "Print the accuracy."
      ]
    },
    {
      "cell_type": "code",
      "metadata": {
        "id": "kI1kZf-Bm8yI",
        "colab_type": "code",
        "colab": {}
      },
      "source": [
        "loaded_model = load_model('my_model.h5') "
      ],
      "execution_count": 0,
      "outputs": []
    },
    {
      "cell_type": "code",
      "metadata": {
        "id": "K7ZDXnQXvDPC",
        "colab_type": "code",
        "outputId": "df373afe-0c2e-40e2-d1d3-b66680903b6b",
        "colab": {
          "base_uri": "https://localhost:8080/",
          "height": 35
        }
      },
      "source": [
        "predict = loaded_model.predict_classes(x_test)\n",
        "test_label = list(map(np.argmax,Y_test))\n",
        "accuracy =  accuracy_score(test_label, predict)\n",
        "print('Accuracy: ', accuracy)  "
      ],
      "execution_count": 0,
      "outputs": [
        {
          "output_type": "stream",
          "text": [
            "Accuracy:  0.8819\n"
          ],
          "name": "stdout"
        }
      ]
    },
    {
      "cell_type": "markdown",
      "metadata": {
        "id": "0KkbVG4qne9Z",
        "colab_type": "text"
      },
      "source": [
        "Question 7:\n",
        "\n",
        "Print the Confusion Matrix for predicted classes of test_images\n",
        "and test_label."
      ]
    },
    {
      "cell_type": "code",
      "metadata": {
        "id": "8vOgXmHPtLDz",
        "colab_type": "code",
        "outputId": "6db5b719-a4f8-49a0-9fd4-172bae2a5330",
        "colab": {
          "base_uri": "https://localhost:8080/",
          "height": 197
        }
      },
      "source": [
        "conf_matrix= confusion_matrix(test_label, predict)\n",
        "conf_matrix"
      ],
      "execution_count": 0,
      "outputs": [
        {
          "output_type": "execute_result",
          "data": {
            "text/plain": [
              "array([[852,   0,  39,  23,  10,   1,  66,   0,   9,   0],\n",
              "       [  5, 978,   1,   8,   2,   0,   3,   0,   3,   0],\n",
              "       [ 16,   1, 882,  10,  47,   0,  43,   0,   0,   1],\n",
              "       [ 38,  14,  39, 851,  32,   1,  24,   0,   1,   0],\n",
              "       [  3,   2, 115,  29, 816,   1,  33,   0,   1,   0],\n",
              "       [  1,   0,   0,   0,   0, 963,   0,  16,   4,  16],\n",
              "       [146,   2, 121,  23,  87,   1, 607,   0,  12,   1],\n",
              "       [  0,   0,   0,   0,   0,  12,   1, 960,   1,  26],\n",
              "       [  4,   0,   5,   9,   3,   5,   8,   3, 961,   2],\n",
              "       [  0,   0,   0,   0,   0,  11,   1,  37,   2, 949]])"
            ]
          },
          "metadata": {
            "tags": []
          },
          "execution_count": 47
        }
      ]
    },
    {
      "cell_type": "markdown",
      "metadata": {
        "id": "pS1XbNbsnl5-",
        "colab_type": "text"
      },
      "source": [
        "Question 8:\n",
        "\n",
        "Print the count of total misclassification that occurred using the\n",
        "saved model.\n"
      ]
    },
    {
      "cell_type": "code",
      "metadata": {
        "id": "-I3mpzGayED5",
        "colab_type": "code",
        "outputId": "99ee9934-847e-47ed-d0d0-c8a65d73f65f",
        "colab": {
          "base_uri": "https://localhost:8080/",
          "height": 35
        }
      },
      "source": [
        "print('Total Mis-Classification Count: ', len(y_test)- accuracy*len(y_test))"
      ],
      "execution_count": 0,
      "outputs": [
        {
          "output_type": "stream",
          "text": [
            "Total Mis-Classification Count:  1181.0\n"
          ],
          "name": "stdout"
        }
      ]
    },
    {
      "cell_type": "markdown",
      "metadata": {
        "id": "mSOvIxCynr_B",
        "colab_type": "text"
      },
      "source": [
        "Question 9:\n",
        "\n",
        "Write an experiment that can perform multiple parameters\n",
        "training. \n",
        "\n",
        "Save the intermediate output of each experiment in\n",
        "the dictionary. \n",
        "\n",
        "The key for each experiment will be string combination of (optimizer+Epoch+BatchSize). "
      ]
    },
    {
      "cell_type": "markdown",
      "metadata": {
        "id": "gdoyKUfd3CHX",
        "colab_type": "text"
      },
      "source": [
        "Epochs = [10,30,50]\n",
        "\n",
        "Batch Size = [500,1000, 5000]\n",
        "\n",
        "Optimizer = [Adam, RmsProp, SGD]"
      ]
    },
    {
      "cell_type": "code",
      "metadata": {
        "id": "AvLUwCvdUVL1",
        "colab_type": "code",
        "colab": {}
      },
      "source": [
        "def experiment(model, batch_size, epochs, optimizers):\n",
        "    output=dict()\n",
        "    for optimizer in optimizers:\n",
        "        for epoch in epochs: \n",
        "            for batch_size in batch_sizes:\n",
        "                model.compile(optimizer, 'categorical_crossentropy', 'accuracy')\n",
        "                model.fit(x,Y, epochs= epoch, batch_size= batch_size, validation_data=(val_x, val_Y), verbose=0)\n",
        "                predict = model.predict_classes(x_test)\n",
        "                test_label = list(map(np.argmax,Y_test))\n",
        "                accuracy =  accuracy_score(test_label, predict)\n",
        "                output[f'{optimizer}{epoch}{batch_size}']= accuracy \n",
        "            #print(output)\n",
        "\n",
        "\n",
        "    return output      "
      ],
      "execution_count": 0,
      "outputs": []
    },
    {
      "cell_type": "code",
      "metadata": {
        "id": "ZDlmqyCenx6A",
        "colab_type": "code",
        "colab": {}
      },
      "source": [
        "batch_sizes=[500,1000,5000]\n",
        "epochs=[10,30,50]\n",
        "optimizers=['adam', 'rmsprop','sgd'] \n",
        "output = experiment(loaded_model, batch_sizes, epochs, optimizers)"
      ],
      "execution_count": 0,
      "outputs": []
    },
    {
      "cell_type": "code",
      "metadata": {
        "id": "wrPGbWbXQK9U",
        "colab_type": "code",
        "outputId": "413b1638-c68c-4f3e-ef31-8aa5d7f95e8e",
        "colab": {
          "base_uri": "https://localhost:8080/",
          "height": 502
        }
      },
      "source": [
        "for key, value in output.items():\n",
        "    print(key,':',value)"
      ],
      "execution_count": 0,
      "outputs": [
        {
          "output_type": "stream",
          "text": [
            "adam10500 : 0.8815\n",
            "adam101000 : 0.881\n",
            "adam105000 : 0.8812\n",
            "adam30500 : 0.8811\n",
            "adam301000 : 0.878\n",
            "adam305000 : 0.8786\n",
            "adam50500 : 0.8759\n",
            "adam501000 : 0.8769\n",
            "adam505000 : 0.8771\n",
            "rmsprop10500 : 0.8728\n",
            "rmsprop101000 : 0.8539\n",
            "rmsprop105000 : 0.8754\n",
            "rmsprop30500 : 0.8715\n",
            "rmsprop301000 : 0.8654\n",
            "rmsprop305000 : 0.8681\n",
            "rmsprop50500 : 0.8746\n",
            "rmsprop501000 : 0.8641\n",
            "rmsprop505000 : 0.8747\n",
            "sgd10500 : 0.8741\n",
            "sgd101000 : 0.8744\n",
            "sgd105000 : 0.8743\n",
            "sgd30500 : 0.8749\n",
            "sgd301000 : 0.8747\n",
            "sgd305000 : 0.8746\n",
            "sgd50500 : 0.8743\n",
            "sgd501000 : 0.8744\n",
            "sgd505000 : 0.8744\n"
          ],
          "name": "stdout"
        }
      ]
    }
  ]
}